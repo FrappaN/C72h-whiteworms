{
 "cells": [
  {
   "cell_type": "markdown",
   "id": "7cb9408b",
   "metadata": {},
   "source": [
    "# Generate networks for simulations"
   ]
  },
  {
   "cell_type": "code",
   "execution_count": 1,
   "id": "091ef3c7",
   "metadata": {},
   "outputs": [],
   "source": [
    "import pandas as pd\n",
    "import numpy as np\n",
    "import networkx as nx\n",
    "import os\n",
    "import matplotlib.pyplot as plt\n",
    "import random"
   ]
  },
  {
   "cell_type": "code",
   "execution_count": 2,
   "id": "97640a19",
   "metadata": {},
   "outputs": [],
   "source": [
    "outdir = './networks/'\n",
    "if not os.path.exists(outdir):\n",
    "    os.makedirs(outdir)"
   ]
  },
  {
   "cell_type": "markdown",
   "id": "3595db93",
   "metadata": {},
   "source": [
    "#### complete graph"
   ]
  },
  {
   "cell_type": "code",
   "execution_count": 3,
   "id": "113ffea4",
   "metadata": {},
   "outputs": [],
   "source": [
    "CG = nx.complete_graph(100)"
   ]
  },
  {
   "cell_type": "code",
   "execution_count": 4,
   "id": "2dc42ae5",
   "metadata": {},
   "outputs": [],
   "source": [
    "nnodes = len(CG.nodes)\n",
    "outfile = open(\"./%s/CG_N%d.txt\"%(outdir, nnodes), 'wb')\n",
    "nx.write_edgelist(CG, outfile)"
   ]
  },
  {
   "cell_type": "markdown",
   "id": "978ad5ef",
   "metadata": {},
   "source": [
    "#### random graph"
   ]
  },
  {
   "cell_type": "code",
   "execution_count": 5,
   "id": "fc8b59e6",
   "metadata": {},
   "outputs": [],
   "source": [
    "random.seed(42)\n",
    "ER = nx.erdos_renyi_graph(n=10000, p=0.001) # ~10 links per node"
   ]
  },
  {
   "cell_type": "code",
   "execution_count": 6,
   "id": "d370b526",
   "metadata": {},
   "outputs": [],
   "source": [
    "nnodes = len(ER.nodes)\n",
    "nedges = len(ER.edges)\n",
    "av_degree = 2*nedges/nnodes\n",
    "outfile = open(\"./%s/ER_N%d_<k>%d.txt\"%(outdir, nnodes, round(av_degree)), 'wb')\n",
    "nx.write_edgelist(ER, outfile)"
   ]
  },
  {
   "cell_type": "markdown",
   "id": "fe8eb73c",
   "metadata": {},
   "source": [
    "#### stochastic block model - hierarchical graph"
   ]
  },
  {
   "cell_type": "code",
   "execution_count": 7,
   "id": "55dfd36b",
   "metadata": {},
   "outputs": [],
   "source": [
    "ncom = 9                            # number of communities\n",
    "sizes=[1111 for i in range(ncom)]   # size of each community\n",
    "probs = np.zeros((ncom,ncom))       # connection probabilities between nodes of different communities\n",
    "min_val = 0.0001\n",
    "for r in range(ncom):\n",
    "    for c in range(r+1):\n",
    "        probs[r,c] = max(np.random.normal(0.0000015, 0.0000001), min_val)\n",
    "        probs[c,r] = probs[r,c]\n",
    "        if r==c:\n",
    "            probs[r,c] = max(np.random.normal(0.007, 0.001), min_val)\n",
    "        elif np.floor(r/3) == np.floor(c/3):\n",
    "            probs[r,c] = max(np.random.normal(0.0009, 0.0001), min_val)\n",
    "            probs[c,r] = probs[r,c]"
   ]
  },
  {
   "cell_type": "code",
   "execution_count": 8,
   "id": "7690d4a7",
   "metadata": {},
   "outputs": [
    {
     "data": {
      "text/plain": [
       "<matplotlib.colorbar.Colorbar at 0x7f61eebe9df0>"
      ]
     },
     "execution_count": 8,
     "metadata": {},
     "output_type": "execute_result"
    },
    {
     "data": {
      "image/png": "[encoded data removed]",
      "text/plain": [
       "<Figure size 432x288 with 2 Axes>"
      ]
     },
     "metadata": {
      "needs_background": "light"
     },
     "output_type": "display_data"
    }
   ],
   "source": [
    "# plot connection probabilities\n",
    "plt.imshow(probs, cmap='viridis')\n",
    "plt.colorbar()"
   ]
  },
  {
   "cell_type": "code",
   "execution_count": 9,
   "id": "df20c599",
   "metadata": {},
   "outputs": [],
   "source": [
    "# create the SBM graph\n",
    "random.seed(42)\n",
    "SBM = nx.stochastic_block_model(sizes=sizes, p=probs)"
   ]
  },
  {
   "cell_type": "code",
   "execution_count": 10,
   "id": "c3d8a92c",
   "metadata": {},
   "outputs": [
    {
     "name": "stdout",
     "output_type": "stream",
     "text": [
      "10.071007100710071\n"
     ]
    },
    {
     "data": {
      "image/png": "[encoded data removed]",
      "text/plain": [
       "<Figure size 432x288 with 1 Axes>"
      ]
     },
     "metadata": {
      "needs_background": "light"
     },
     "output_type": "display_data"
    }
   ],
   "source": [
    "# check the mean degree\n",
    "degrees = [j for (i,j) in SBM.degree]\n",
    "print (np.mean(degrees))\n",
    "plt.hist(degrees)\n",
    "plt.show()"
   ]
  },
  {
   "cell_type": "code",
   "execution_count": 11,
   "id": "8c0e6c46",
   "metadata": {},
   "outputs": [],
   "source": [
    "nnodes = len(SBM.nodes)\n",
    "nedges = len(SBM.edges)\n",
    "av_degree = 2*nedges/nnodes\n",
    "outfile = open(\"./%s/SBM_N%d_<k>%d.txt\"%(outdir, nnodes, round(av_degree)), 'wb')\n",
    "nx.write_edgelist(SBM, outfile)"
   ]
  },
  {
   "cell_type": "code",
   "execution_count": null,
   "id": "9ec534b1",
   "metadata": {},
   "outputs": [],
   "source": []
  }
 ],
 "metadata": {
  "kernelspec": {
   "display_name": "Python 3",
   "language": "python",
   "name": "python3"
  },
  "language_info": {
   "codemirror_mode": {
    "name": "ipython",
    "version": 3
   },
   "file_extension": ".py",
   "mimetype": "text/x-python",
   "name": "python",
   "nbconvert_exporter": "python",
   "pygments_lexer": "ipython3",
   "version": "3.8.5"
  }
 },
 "nbformat": 4,
 "nbformat_minor": 5
}
