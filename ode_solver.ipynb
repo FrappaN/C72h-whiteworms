{
 "cells": [
  {
   "cell_type": "code",
   "execution_count": 263,
   "metadata": {},
   "outputs": [],
   "source": [
    "import numpy as np\n",
    "from scipy.integrate import odeint\n",
    "import matplotlib.pyplot as plt\n",
    "import networkx as nx"
   ]
  },
  {
   "cell_type": "code",
   "execution_count": 264,
   "metadata": {},
   "outputs": [],
   "source": [
    "# Define the parameters\n",
    "\n",
    "beta_b = 1.5\n",
    "beta_w = 1.5\n",
    "gamma_p = 0.3\n",
    "epsilon = 0.3\n",
    "mu = 1"
   ]
  },
  {
   "cell_type": "code",
   "execution_count": 265,
   "metadata": {},
   "outputs": [],
   "source": [
    "\n",
    "\n",
    "\n",
    "\n",
    "# Define the system of ODEs\n",
    "def system(y, t, p):\n",
    "    # Define compartments\n",
    "    V, B, C, W, C_b, W_b, P = y\n",
    "    # Total population\n",
    "    N = sum(y)\n",
    "    # Total b infected \n",
    "    B_t = (B + C_b + W_b)\n",
    "    # Total w infected\n",
    "    W_t = (W + W_b)\n",
    "\n",
    "   \n",
    "    # First equation \n",
    "    dV = -p['beta_b']*V*B_t/N - p['beta_w']*V*W_t/N \n",
    "    # Second equation \n",
    "    dB = p['beta_b']*V*B_t/N - p['beta_w']*B*W_t/N \n",
    "    # Third equation   \n",
    "    dC = p['beta_w']*V*W_t/N - p['beta_b']*C*B_t/N - p['epsilon']*C - p['gamma_p']*C\n",
    "    # Fourth equation\n",
    "    dW = p['epsilon']*C - p['beta_b']*W*B_t/N - p['mu']*W \n",
    "    # Fifth equation\n",
    "    dC_b = p['beta_w']*B*W_t/N + p['beta_b']*C*B_t/N - p['gamma_p']*C_b - p['epsilon']*C_b\n",
    "    # Sixth equation\n",
    "    dW_b = p['beta_b']*W*B_t/N + p['epsilon']*C_b - p['mu']*W_b\n",
    "    # Seventh equation\n",
    "    dP =  p['gamma_p']*(C + C_b) + p['mu']*W + p['mu']*W_b\n",
    "\n",
    "    # Return array \n",
    "    return [dV, dB, dC, dW, dC_b, dW_b, dP]\n",
    "\n"
   ]
  },
  {
   "cell_type": "code",
   "execution_count": 266,
   "metadata": {},
   "outputs": [],
   "source": [
    "n = 10000\n",
    "\n",
    "# Initial conditions\n",
    "V0 = n-2\n",
    "B0 = 1\n",
    "C0 = 1\n",
    "W0 = 0\n",
    "C_b0 = 0\n",
    "W_b0 = 0\n",
    "P0 = 0\n",
    "\n",
    "\n",
    "y0 = [V0, B0, C0, W0, C_b0, W_b0, P0]\n",
    "\n",
    "\n",
    "duration = 2000\n",
    "# Time vector\n",
    "t = np.linspace(0, duration, duration)\n",
    "\n",
    "# Parameters\n",
    "p = {'beta_b': beta_b, 'beta_w': beta_w, 'gamma_p': gamma_p, 'epsilon': epsilon, 'mu': mu}\n",
    "\n",
    "# Integrate the system of ODEs\n",
    "result = odeint(system, y0, t, args=(p,))"
   ]
  },
  {
   "cell_type": "code",
   "execution_count": 267,
   "metadata": {},
   "outputs": [],
   "source": [
    "gammas = [0.1, 1, 10]\n",
    "\n",
    "#gammas = [0.1]"
   ]
  },
  {
   "cell_type": "code",
   "execution_count": 268,
   "metadata": {},
   "outputs": [],
   "source": [
    "result = odeint(system, y0, t, args=(p,))"
   ]
  },
  {
   "cell_type": "code",
   "execution_count": 269,
   "metadata": {},
   "outputs": [],
   "source": [
    "protected_matrix  = np.zeros((len(gammas),150))\n",
    "\n",
    "for i, gamma in enumerate(gammas):\n",
    "    epsilons = np.linspace(gamma/10000, gamma*100, 150)\n",
    "    for j, epsilon in enumerate(epsilons):\n",
    "        p['gamma_p'] = gamma\n",
    "        p['epsilon'] = epsilon\n",
    "        result = odeint(system, y0, t, args=(p,))\n",
    "        relation = result[-1][-1]\n",
    "\n",
    "        protected_matrix[i][j] = relation"
   ]
  },
  {
   "cell_type": "code",
   "execution_count": 270,
   "metadata": {},
   "outputs": [],
   "source": [
    "epsilon_gamma = np.logspace(-4, 2, 150)"
   ]
  },
  {
   "cell_type": "code",
   "execution_count": 271,
   "metadata": {},
   "outputs": [
    {
     "name": "stderr",
     "output_type": "stream",
     "text": [
      "No artists with labels found to put in legend.  Note that artists whose label start with an underscore are ignored when legend() is called with no argument.\n"
     ]
    },
    {
     "data": {
      "image/png": "[encoded data removed]",
      "text/plain": [
       "<Figure size 640x480 with 1 Axes>"
      ]
     },
     "metadata": {},
     "output_type": "display_data"
    }
   ],
   "source": [
    "# create a new figure\n",
    "plt.figure()\n",
    "\n",
    "# plot each row with a label\n",
    "for i, row in enumerate(protected_matrix):\n",
    "    plt.plot(epsilon_gamma, row)\n",
    "\n",
    "# set the title of the plot\n",
    "plt.title('Nodes in protected class')\n",
    "\n",
    "# add a legend\n",
    "plt.legend()\n",
    "\n",
    "# set the x-axis scale to log \n",
    "plt.xscale('log')\n",
    "\n",
    "# set the y-axis scale\n",
    "#plt.ylim([0,105])\n",
    "\n",
    "# show the plot\n",
    "plt.show()"
   ]
  }
 ],
 "metadata": {
  "kernelspec": {
   "display_name": "complexity-env",
   "language": "python",
   "name": "python3"
  },
  "language_info": {
   "codemirror_mode": {
    "name": "ipython",
    "version": 3
   },
   "file_extension": ".py",
   "mimetype": "text/x-python",
   "name": "python",
   "nbconvert_exporter": "python",
   "pygments_lexer": "ipython3",
   "version": "3.10.0"
  },
  "orig_nbformat": 4
 },
 "nbformat": 4,
 "nbformat_minor": 2
}
