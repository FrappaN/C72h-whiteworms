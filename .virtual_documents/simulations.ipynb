import networkx as nx
from EoN import Gillespie_simple_contagion as gsp_alg
from collections import defaultdict
import pandas as pd
import argparse
from tqdm import trange
import numpy as np
from sim_function import run_stoc_sim
import matplotlib.pyplot as plt



G = nx.complete_graph(100)
G_name = 'CG'

# initial conditions
IC = defaultdict(lambda: 'V')
for node in range(1):
    IC[node] = 'B'
for node in range(2, 3):
    IC[node] = 'C'

params = {}

params['beta'] = 1.1
params['gammaP'] = 0.5
params['epsilon'] = 0.5
params['mu'] = 1

gammas = [0.001, 0.2, 0.4, 0.6, 0.8, 1, 1.2, 1.4, 1.6, 2, 5, 100]
epsilons = [0.001, 0.2, 0.4, 0.6, 0.8, 1, 1.2, 1.4, 1.6, 2, 5, 100]

n_iter=10

max_matrix = np.zeros((12,12))
final_matrix = np.zeros((12,12))
t_matrix = np.zeros((12,12))

for i, gamma in enumerate(gammas):
    for j, epsilon in enumerate(epsilons):
        params['gammaP'] = gamma
        params['epsilon'] = epsilon
        max_peack_black, final_black, t_window = run_stoc_sim(params, G, G_name, IC, n_iter)
        
        max_matrix[i][j] = np.median(max_peack_black)
        final_matrix[i][j] = np.median(final_black)
        t_matrix[i][j] = np.median(t_window)


plt.imshow(max_matrix, origin='lower', cmap='viridis')
plt.ylabel('gamma')
plt.xlabel('epsilon')
plt.colorbar()
plt.title('max black peak')
max_matrix


plt.imshow(final_matrix, origin='lower', cmap='viridis')
plt.ylabel('gamma')
plt.xlabel('epsilon')
plt.title('final black num')
plt.colorbar()
final_matrix


plt.imshow(t_matrix, origin='lower', cmap='viridis')
plt.ylabel('gamma')
plt.xlabel('epsilon')
plt.title('window time')
plt.colorbar()
t_matrix



